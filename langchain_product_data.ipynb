{
 "cells": [
  {
   "cell_type": "code",
   "execution_count": 1,
   "id": "27f07fd4",
   "metadata": {},
   "outputs": [],
   "source": [
    "import os\n",
    "from dotenv import load_dotenv"
   ]
  },
  {
   "cell_type": "code",
   "execution_count": 2,
   "id": "96bc9953",
   "metadata": {},
   "outputs": [
    {
     "data": {
      "text/plain": [
       "True"
      ]
     },
     "execution_count": 2,
     "metadata": {},
     "output_type": "execute_result"
    }
   ],
   "source": [
    "load_dotenv()"
   ]
  },
  {
   "cell_type": "code",
   "execution_count": 3,
   "id": "8f2c9f63",
   "metadata": {},
   "outputs": [],
   "source": [
    "os.environ[\"GROQ_API_KEY\"] = os.getenv(\"GROQ_API_KEY\")"
   ]
  },
  {
   "cell_type": "code",
   "execution_count": 8,
   "id": "0ad29e0a",
   "metadata": {},
   "outputs": [],
   "source": [
    "from pydantic import BaseModel, Field\n",
    "\n",
    "from langchain_core.prompts import ChatPromptTemplate\n",
    "from langchain_groq import ChatGroq\n",
    "from langchain_core.output_parsers import JsonOutputParser\n",
    "\n",
    "class Product(BaseModel):\n",
    "    name: str = Field(description=\"Product name\")\n",
    "    price: float = Field(description=\"Price in USD\")\n",
    "    detail: str = Field(description=\"Product detail\")\n",
    "\n",
    "query = \"iPhone 16 pro max\"\n",
    "\n",
    "parser = JsonOutputParser(pydantic_object=Product)\n",
    "\n",
    "prompt = ChatPromptTemplate([\n",
    "    (\"system\", \"You are a helpful assistant in getting product data.\"),\n",
    "    (\"user\", \"Give me the product detail of {query} in {instruction}\")\n",
    "])\n",
    "\n",
    "llm = ChatGroq(model=\"qwen-qwq-32b\")\n",
    "\n",
    "chain = prompt | llm | parser\n",
    "\n",
    "result = chain.invoke({\"query\": query, \"instruction\": parser.get_format_instructions()})"
   ]
  },
  {
   "cell_type": "code",
   "execution_count": 9,
   "id": "f0d390c9",
   "metadata": {},
   "outputs": [
    {
     "data": {
      "text/plain": [
       "{'name': 'iPhone 16 Pro Max',\n",
       " 'price': 1299.0,\n",
       " 'detail': '6.8-inch Dynamic Island display, 48MP main camera, A18 Bionic chip, longer battery life, IP68 water resistance, new color options, and enhanced computational photography features.'}"
      ]
     },
     "execution_count": 9,
     "metadata": {},
     "output_type": "execute_result"
    }
   ],
   "source": [
    "result"
   ]
  },
  {
   "cell_type": "code",
   "execution_count": 21,
   "id": "2dbc5c51",
   "metadata": {},
   "outputs": [
    {
     "name": "stdout",
     "output_type": "stream",
     "text": [
      "iPhone 16 Pro Max costs around 1299.0 USD. It is 6.8-inch Dynamic Island display, 48MP main camera, A18 Bionic chip, longer battery life, IP68 water resistance, new color options, and enhanced computational photography features.\n"
     ]
    }
   ],
   "source": [
    "print (f\"{result['name']} costs around {result['price']} USD. It is {result['detail']}\")"
   ]
  }
 ],
 "metadata": {
  "kernelspec": {
   "display_name": "cv_collection_review_rnd",
   "language": "python",
   "name": "python3"
  },
  "language_info": {
   "codemirror_mode": {
    "name": "ipython",
    "version": 3
   },
   "file_extension": ".py",
   "mimetype": "text/x-python",
   "name": "python",
   "nbconvert_exporter": "python",
   "pygments_lexer": "ipython3",
   "version": "3.10.16"
  }
 },
 "nbformat": 4,
 "nbformat_minor": 5
}
